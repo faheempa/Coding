{
 "cells": [
  {
   "cell_type": "code",
   "execution_count": 2,
   "metadata": {},
   "outputs": [
    {
     "name": "stdout",
     "output_type": "stream",
     "text": [
      "['h', 'e', 'l', 'l', 'o', 'w', 'o', 'r', 'l', 'd']\n"
     ]
    }
   ],
   "source": [
    "# list comprehension\n",
    "mystring = \"helloworld\"\n",
    "letterList = [x  for x in mystring]\n",
    "print(letterList)"
   ]
  },
  {
   "cell_type": "code",
   "execution_count": 3,
   "metadata": {},
   "outputs": [
    {
     "name": "stdout",
     "output_type": "stream",
     "text": [
      "[0, 2, 4, 6, 8, 10]\n"
     ]
    }
   ],
   "source": [
    "# with if statement\n",
    "evenList = [x for x in range(0,11) if x%2==0]\n",
    "print(evenList)"
   ]
  },
  {
   "cell_type": "code",
   "execution_count": 5,
   "metadata": {},
   "outputs": [
    {
     "name": "stdout",
     "output_type": "stream",
     "text": [
      "[0, 'ODD', 2, 'ODD', 4, 'ODD', 6, 'ODD', 8, 'ODD', 10]\n"
     ]
    }
   ],
   "source": [
    "# with if else statement\n",
    "evenOddList = [x if x%2==0 else \"ODD\" for x in range(0,11)]\n",
    "print(evenOddList)"
   ]
  },
  {
   "cell_type": "code",
   "execution_count": 4,
   "metadata": {},
   "outputs": [
    {
     "name": "stdout",
     "output_type": "stream",
     "text": [
      "[32.0, 50.0, 68.0, 86.0, 94.1]\n"
     ]
    }
   ],
   "source": [
    "# with other operations\n",
    "celcius = [0,10,20,30, 34.5]\n",
    "fahrenheit = [((9/5)*temp + 32) for temp in celcius]\n",
    "print(fahrenheit)"
   ]
  },
  {
   "cell_type": "code",
   "execution_count": 7,
   "metadata": {},
   "outputs": [
    {
     "name": "stdout",
     "output_type": "stream",
     "text": [
      "[2, 20, 200, 4, 40, 400, 6, 60, 600]\n",
      "[2, 20, 200, 4, 40, 400, 6, 60, 600]\n"
     ]
    }
   ],
   "source": [
    "# nested loops\n",
    "nestedList = [x*y for x in [2,4,6] for y in [1,10,100]]\n",
    "print(nestedList)\n",
    "\n",
    "# interpreting the nested loop\n",
    "nestedList = []\n",
    "for x in [2,4,6]:\n",
    "    for y in [1,10,100]:\n",
    "        nestedList.append(x*y)\n",
    "print(nestedList)"
   ]
  },
  {
   "cell_type": "code",
   "execution_count": 8,
   "metadata": {},
   "outputs": [
    {
     "name": "stdout",
     "output_type": "stream",
     "text": [
      "['t', 'q', 'b', 'f', 'j', 'o', 't', 'l', 'd']\n"
     ]
    }
   ],
   "source": [
    "# list of first letter of each word in a string\n",
    "string = \"the quick brown fox jumps over the lazy dog\"\n",
    "listOfFirstLetter = [word[0] for word in string.split()]\n",
    "print(listOfFirstLetter)"
   ]
  },
  {
   "cell_type": "code",
   "execution_count": 3,
   "metadata": {},
   "outputs": [
    {
     "name": "stdout",
     "output_type": "stream",
     "text": [
      "[1, 2, 'Fizz', 4, 'Buzz', 'Fizz', 7, 8, 'Fizz', 'Buzz', 11, 'Fizz', 13, 14, 'FizzBuzz', 16, 17, 'Fizz', 19]\n"
     ]
    }
   ],
   "source": [
    "# fizzbuzz with list comprehension\n",
    "fizzbuzz = [\"FizzBuzz\" if x%3==0 and x%5==0 else \"Fizz\" if x%3==0 else \"Buzz\" if x%5==0 else x for x in range(1,20)]\n",
    "print(fizzbuzz)"
   ]
  }
 ],
 "metadata": {
  "kernelspec": {
   "display_name": "Python 3",
   "language": "python",
   "name": "python3"
  },
  "language_info": {
   "codemirror_mode": {
    "name": "ipython",
    "version": 3
   },
   "file_extension": ".py",
   "mimetype": "text/x-python",
   "name": "python",
   "nbconvert_exporter": "python",
   "pygments_lexer": "ipython3",
   "version": "3.12.2"
  }
 },
 "nbformat": 4,
 "nbformat_minor": 2
}
