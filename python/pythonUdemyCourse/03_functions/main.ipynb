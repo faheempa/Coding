{
 "cells": [
  {
   "cell_type": "code",
   "execution_count": 1,
   "metadata": {},
   "outputs": [
    {
     "name": "stdout",
     "output_type": "stream",
     "text": [
      "Help on built-in function append:\n",
      "\n",
      "append(object, /) method of builtins.list instance\n",
      "    Append object to the end of the list.\n",
      "\n"
     ]
    }
   ],
   "source": [
    "mylist = []\n",
    "help(mylist.append)"
   ]
  },
  {
   "cell_type": "code",
   "execution_count": 3,
   "metadata": {},
   "outputs": [
    {
     "name": "stdout",
     "output_type": "stream",
     "text": [
      "hello john\n",
      "hello default\n"
     ]
    }
   ],
   "source": [
    "def say_hello(name=\"default\"):\n",
    "    print(f\"hello {name}\")\n",
    "\n",
    "say_hello(\"john\")\n",
    "say_hello()"
   ]
  },
  {
   "cell_type": "code",
   "execution_count": 5,
   "metadata": {},
   "outputs": [
    {
     "name": "stdout",
     "output_type": "stream",
     "text": [
      "3\n"
     ]
    }
   ],
   "source": [
    "def sum(a, b):\n",
    "    return a + b\n",
    "\n",
    "res = sum(1, 2)\n",
    "print(res)"
   ]
  },
  {
   "cell_type": "code",
   "execution_count": 7,
   "metadata": {},
   "outputs": [
    {
     "name": "stdout",
     "output_type": "stream",
     "text": [
      "4\n"
     ]
    }
   ],
   "source": [
    "# using type checking\n",
    "def sum(a: int, b: int) -> int:\n",
    "    return a + b\n",
    "\n",
    "# res = sum(1, \"3\") # this will throw an error\n",
    "res = sum(1, 3)\n",
    "print(res)"
   ]
  },
  {
   "cell_type": "code",
   "execution_count": 9,
   "metadata": {},
   "outputs": [
    {
     "name": "stdout",
     "output_type": "stream",
     "text": [
      "[2, 4, 6, 8, 10]\n"
     ]
    }
   ],
   "source": [
    "# get even list form a list\n",
    "def get_even_list(list):\n",
    "    # evens = []\n",
    "    # for i in list:\n",
    "    #     if i % 2 == 0:\n",
    "    #         evens.append(i)\n",
    "    # return evens\n",
    "    # OR\n",
    "    return [i for i in list if i % 2 == 0]\n",
    "\n",
    "print(get_even_list([1, 2, 3, 4, 5, 6, 7, 8, 9, 10]))"
   ]
  },
  {
   "cell_type": "code",
   "execution_count": 13,
   "metadata": {},
   "outputs": [
    {
     "name": "stdout",
     "output_type": "stream",
     "text": [
      "Wrong guess!\n",
      "['', '', 'O']\n"
     ]
    }
   ],
   "source": [
    "# simple quess game\n",
    "def shuffle_list(mylist):\n",
    "    from random import shuffle\n",
    "    shuffle(mylist)\n",
    "    return mylist\n",
    "\n",
    "def player_guess():\n",
    "    guess = \"\"\n",
    "    while guess not in [\"0\", \"1\", \"2\"]:\n",
    "        guess = input(\"Pick a number: 0, 1, or 2: \")\n",
    "    return int(guess)\n",
    "\n",
    "def check_guess(mylist, guess):\n",
    "    if mylist[guess] == \"O\":\n",
    "        print(\"Correct!\")\n",
    "    else:\n",
    "        print(\"Wrong guess!\")\n",
    "        print(mylist)\n",
    "\n",
    "# play game\n",
    "mylist = [\"\", \"O\", \"\"]\n",
    "mixed_list = shuffle_list(mylist)\n",
    "guess = player_guess()\n",
    "check_guess(mixed_list, guess)\n"
   ]
  },
  {
   "cell_type": "code",
   "execution_count": 1,
   "metadata": {},
   "outputs": [
    {
     "name": "stdout",
     "output_type": "stream",
     "text": [
      "1\n",
      "2\n",
      "(3, 4, 5, 6)\n",
      "{'name': 'john', 'age': 30}\n"
     ]
    }
   ],
   "source": [
    "# *args and **kwargs\n",
    "def myfunc(a, b, *args, **kwargs):\n",
    "    print(a)\n",
    "    print(b)\n",
    "    print(args)\n",
    "    print(kwargs)\n",
    "\n",
    "myfunc(1, 2, 3, 4, 5, 6, name=\"john\", age=30)\n",
    "\n",
    "\n",
    "# args is used to pass multiple arguments\n",
    "# kwargs is used to pass multiple key value pairs "
   ]
  },
  {
   "cell_type": "code",
   "execution_count": 3,
   "metadata": {},
   "outputs": [
    {
     "name": "stdout",
     "output_type": "stream",
     "text": [
      "AbCdE\n"
     ]
    }
   ],
   "source": [
    "# input: \"abcde\"\n",
    "# output: \"AbCdE\"\n",
    "def myfunc(string):\n",
    "    return \"\".join([x.upper() if i % 2 == 0 else x.lower() for i, x in enumerate(string)])\n",
    "\n",
    "print(myfunc(\"abcde\"))"
   ]
  },
  {
   "cell_type": "code",
   "execution_count": 5,
   "metadata": {},
   "outputs": [
    {
     "name": "stdout",
     "output_type": "stream",
     "text": [
      "True\n"
     ]
    }
   ],
   "source": [
    "# has 33\n",
    "def has_33(nums):\n",
    "    for i in range(len(nums) - 1):\n",
    "        if nums[i:i+2] == [3, 3]:\n",
    "            return True\n",
    "    return False\n",
    "\n",
    "input = [3,3,1,3]\n",
    "print(has_33(input))"
   ]
  },
  {
   "cell_type": "code",
   "execution_count": 11,
   "metadata": {},
   "outputs": [
    {
     "name": "stdout",
     "output_type": "stream",
     "text": [
      "[1, 4, 9, 16, 25]\n",
      "[1, 4, 9, 16, 25]\n"
     ]
    }
   ],
   "source": [
    "# map function\n",
    "def square(num):\n",
    "    return num ** 2\n",
    "\n",
    "my_nums = [1, 2, 3, 4, 5]\n",
    "print(list(map(square, my_nums)))\n",
    "\n",
    "# using lambda expression \n",
    "my_nums = [1, 2, 3, 4, 5]\n",
    "print(list(map(lambda num: num ** 2, my_nums)))"
   ]
  },
  {
   "cell_type": "code",
   "execution_count": 12,
   "metadata": {},
   "outputs": [
    {
     "name": "stdout",
     "output_type": "stream",
     "text": [
      "[2, 4]\n",
      "[2, 4]\n"
     ]
    }
   ],
   "source": [
    "\n",
    "# filter function\n",
    "def check_even(num):\n",
    "    return num % 2 == 0\n",
    "\n",
    "my_nums = [1, 2, 3, 4, 5]\n",
    "print(list(filter(check_even, my_nums)))\n",
    "\n",
    "# using lambda expression\n",
    "print(list(filter(lambda num: num % 2 == 0, my_nums)))"
   ]
  },
  {
   "cell_type": "code",
   "execution_count": 15,
   "metadata": {},
   "outputs": [
    {
     "name": "stdout",
     "output_type": "stream",
     "text": [
      "True\n",
      "False\n"
     ]
    }
   ],
   "source": [
    "# is pangram\n",
    "# no punctuations\n",
    "def is_pangram(str1):\n",
    "    strSet = set(str1.replace(\" \", \"\").lower())\n",
    "    return len(strSet) == 26\n",
    "\n",
    "print(is_pangram(\"The quick brown fox jumps over the lazy dog\"))\n",
    "print(is_pangram(\"The quick brown fox jumps over the lazy cat\"))\n",
    "    "
   ]
  }
 ],
 "metadata": {
  "kernelspec": {
   "display_name": "Python 3",
   "language": "python",
   "name": "python3"
  },
  "language_info": {
   "codemirror_mode": {
    "name": "ipython",
    "version": 3
   },
   "file_extension": ".py",
   "mimetype": "text/x-python",
   "name": "python",
   "nbconvert_exporter": "python",
   "pygments_lexer": "ipython3",
   "version": "3.12.2"
  }
 },
 "nbformat": 4,
 "nbformat_minor": 2
}
